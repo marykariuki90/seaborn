{
 "cells": [
  {
   "cell_type": "code",
   "execution_count": 11,
   "id": "2c6c5b76",
   "metadata": {},
   "outputs": [
    {
     "name": "stdout",
     "output_type": "stream",
     "text": [
      "[2 3]\n",
      "(7,)\n"
     ]
    }
   ],
   "source": [
    "#indexing of array\n",
    "#accesing the original array\n",
    "import numpy as  np\n",
    "x=np.array([1,2,3,4,5,6,7])\n",
    "print(x[1:3])\n",
    "print(x.shape)"
   ]
  },
  {
   "cell_type": "code",
   "execution_count": 3,
   "id": "1dacead2",
   "metadata": {},
   "outputs": [
    {
     "name": "stdout",
     "output_type": "stream",
     "text": [
      "[2 3]\n"
     ]
    }
   ],
   "source": [
    "#slicing of index\n",
    "# slicing is extracting from one element and assigning to another element\n",
    "x=np.array([1,2,3,4,5,6,7])\n",
    "y=(x[1:3])\n",
    "print(y)"
   ]
  },
  {
   "cell_type": "code",
   "execution_count": 19,
   "id": "05650aa4",
   "metadata": {},
   "outputs": [
    {
     "name": "stdout",
     "output_type": "stream",
     "text": [
      "[1 2 3 4]\n",
      "[2 5 6 7]\n"
     ]
    }
   ],
   "source": [
    "#iterating\n",
    "arr4=np.array([[1,2,3,4],[2,5,6,7]])\n",
    "for x in arr4:\n",
    "    print(x)\n"
   ]
  },
  {
   "cell_type": "code",
   "execution_count": 15,
   "id": "607eea3c",
   "metadata": {},
   "outputs": [
    {
     "name": "stdout",
     "output_type": "stream",
     "text": [
      "[[ 1  2  3]\n",
      " [ 4  5  6]\n",
      " [ 7  8  9]\n",
      " [10 11 13]]\n"
     ]
    }
   ],
   "source": [
    "#reshaping\n",
    "arr=np.array([1,2,3,4,5,6,7,8,9,10,11,13])\n",
    "print(arr.reshape(4,3))\n"
   ]
  },
  {
   "cell_type": "code",
   "execution_count": 20,
   "id": "04a0fb5d",
   "metadata": {},
   "outputs": [],
   "source": [
    "#tuple is an ordered list\n",
    "#you can only reshape1-D to 2-D or 3-D and also 4-D to 2-D or 3-D to 1-D but not posssible from2-D to 3-D\n"
   ]
  },
  {
   "cell_type": "code",
   "execution_count": 21,
   "id": "c20c010c",
   "metadata": {},
   "outputs": [
    {
     "name": "stdout",
     "output_type": "stream",
     "text": [
      "[1 2 3 4 2 5 6 7]\n"
     ]
    }
   ],
   "source": [
    "#joining\n",
    "arrx=np.array([1,2,3,4])\n",
    "arrx1=np.array([2,5,6,7])\n",
    "arrx2=np.concatenate((arrx,arrx1))\n",
    "print(arrx2)"
   ]
  },
  {
   "cell_type": "code",
   "execution_count": 26,
   "id": "d32a53e0",
   "metadata": {},
   "outputs": [
    {
     "name": "stdout",
     "output_type": "stream",
     "text": [
      "[array([1, 2, 3]), array([4, 5, 6]), array([7, 8])]\n"
     ]
    }
   ],
   "source": [
    "#splitting\n",
    "arrx=np.array([1,2,3,4,5,6,7,8])\n",
    "a=np.array_split(arrx,3)\n",
    "print(a)\n"
   ]
  },
  {
   "cell_type": "code",
   "execution_count": null,
   "id": "6b8bcfc4",
   "metadata": {},
   "outputs": [],
   "source": []
  }
 ],
 "metadata": {
  "kernelspec": {
   "display_name": "Python 3 (ipykernel)",
   "language": "python",
   "name": "python3"
  },
  "language_info": {
   "codemirror_mode": {
    "name": "ipython",
    "version": 3
   },
   "file_extension": ".py",
   "mimetype": "text/x-python",
   "name": "python",
   "nbconvert_exporter": "python",
   "pygments_lexer": "ipython3",
   "version": "3.9.7"
  }
 },
 "nbformat": 4,
 "nbformat_minor": 5
}
